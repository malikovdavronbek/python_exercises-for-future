{
 "cells": [
  {
   "cell_type": "code",
   "execution_count": null,
   "id": "820495bf",
   "metadata": {},
   "outputs": [],
   "source": [
    "#1 Write a Python program to create a set\n",
    "#List to set\n",
    "n=([1,2,3])\n",
    "print(set(n))\n"
   ]
  },
  {
   "cell_type": "code",
   "execution_count": 1,
   "id": "3ff7d091",
   "metadata": {},
   "outputs": [
    {
     "name": "stdout",
     "output_type": "stream",
     "text": [
      "0 r\n",
      "1 D\n",
      "2 a\n",
      "3 o\n",
      "4 n\n",
      "5 v\n"
     ]
    }
   ],
   "source": [
    "#2  Write a Python program to iteration over sets\n",
    "a=set('Davron')\n",
    "for index,i in enumerate(a) :\n",
    "    print(index,i)"
   ]
  },
  {
   "cell_type": "code",
   "execution_count": 2,
   "id": "8629ba4c",
   "metadata": {},
   "outputs": [
    {
     "name": "stdout",
     "output_type": "stream",
     "text": [
      "{1}\n",
      "{1, 3, 4}\n"
     ]
    }
   ],
   "source": [
    "#3 Write a Python program to add member(s) in a set\n",
    "# adding single elements\n",
    "son=set()\n",
    "son.add(1)\n",
    "print(son)\n",
    "#adding multiple elements\n",
    "son.update([3,4])\n",
    "print(son)"
   ]
  },
  {
   "cell_type": "code",
   "execution_count": 26,
   "id": "eb53a798",
   "metadata": {},
   "outputs": [
    {
     "data": {
      "text/plain": [
       "{1, 3}"
      ]
     },
     "execution_count": 26,
     "metadata": {},
     "output_type": "execute_result"
    }
   ],
   "source": [
    "# 4 Write a Python program to remove item(s) from a given set\n",
    "son.remove(4)\n",
    "son"
   ]
  },
  {
   "cell_type": "code",
   "execution_count": 30,
   "id": "8250b1fa",
   "metadata": {},
   "outputs": [
    {
     "data": {
      "text/plain": [
       "{3}"
      ]
     },
     "execution_count": 30,
     "metadata": {},
     "output_type": "execute_result"
    }
   ],
   "source": [
    "#5 Write a Python program to remove an item from a set if it is present in the set.\n",
    "son.discard(1)\n",
    "son"
   ]
  },
  {
   "cell_type": "code",
   "execution_count": 5,
   "id": "95413c78",
   "metadata": {},
   "outputs": [
    {
     "data": {
      "text/plain": [
       "{2, 3}"
      ]
     },
     "execution_count": 5,
     "metadata": {},
     "output_type": "execute_result"
    }
   ],
   "source": [
    "#6  Write a Python program to create an intersection of sets\n",
    "a={1,2,3}\n",
    "b={2,3,4}\n",
    "a.intersection(b)"
   ]
  },
  {
   "cell_type": "code",
   "execution_count": 39,
   "id": "23e0da14",
   "metadata": {},
   "outputs": [
    {
     "data": {
      "text/plain": [
       "{3}"
      ]
     },
     "execution_count": 39,
     "metadata": {},
     "output_type": "execute_result"
    }
   ],
   "source": [
    "#6.1 method withwe can use & instead of intersection\n",
    "a&son"
   ]
  },
  {
   "cell_type": "code",
   "execution_count": 6,
   "id": "8dade724",
   "metadata": {},
   "outputs": [
    {
     "data": {
      "text/plain": [
       "{1, 2, 3, 4, 5, 6, 7}"
      ]
     },
     "execution_count": 6,
     "metadata": {},
     "output_type": "execute_result"
    }
   ],
   "source": [
    "#7 Write a Python program to create a union of sets\n",
    "a={1,2,3,4}\n",
    "b={4,5,6,7,3}\n",
    "a.union(b)"
   ]
  },
  {
   "cell_type": "code",
   "execution_count": 7,
   "id": "4bf8792b",
   "metadata": {},
   "outputs": [
    {
     "data": {
      "text/plain": [
       "{1, 2, 3, 4, 5, 6, 7}"
      ]
     },
     "execution_count": 7,
     "metadata": {},
     "output_type": "execute_result"
    }
   ],
   "source": [
    "#7.2 we can use | instead of union\n",
    "a|b"
   ]
  },
  {
   "cell_type": "code",
   "execution_count": 42,
   "id": "2b939154",
   "metadata": {},
   "outputs": [
    {
     "data": {
      "text/plain": [
       "{1, 2}"
      ]
     },
     "execution_count": 42,
     "metadata": {},
     "output_type": "execute_result"
    }
   ],
   "source": [
    "#8 Write a Python program to create set difference\n",
    "a.difference(b)"
   ]
  },
  {
   "cell_type": "code",
   "execution_count": 43,
   "id": "995b0ef5",
   "metadata": {},
   "outputs": [
    {
     "data": {
      "text/plain": [
       "{1, 2}"
      ]
     },
     "execution_count": 43,
     "metadata": {},
     "output_type": "execute_result"
    }
   ],
   "source": [
    "# 8.1 we can use - instead of difference\n",
    "a-b"
   ]
  },
  {
   "cell_type": "code",
   "execution_count": 46,
   "id": "21845541",
   "metadata": {},
   "outputs": [
    {
     "data": {
      "text/plain": [
       "{1, 2, 5, 6, 7}"
      ]
     },
     "execution_count": 46,
     "metadata": {},
     "output_type": "execute_result"
    }
   ],
   "source": [
    "#9. Write a Python program to create a symmetric difference.\n",
    "a.symmetric_difference(b)\n"
   ]
  },
  {
   "cell_type": "code",
   "execution_count": 8,
   "id": "55280bd9",
   "metadata": {},
   "outputs": [
    {
     "name": "stdout",
     "output_type": "stream",
     "text": [
      "True\n"
     ]
    }
   ],
   "source": [
    "#10 Write a Python program to check if a set is a subset of another set.\n",
    "a={1,2,3,4,5}\n",
    "b={3,4}\n",
    "print(b.issubset(a))"
   ]
  },
  {
   "cell_type": "markdown",
   "id": "2d3c9819",
   "metadata": {},
   "source": [
    "# 03.12.2022"
   ]
  },
  {
   "cell_type": "code",
   "execution_count": 12,
   "id": "eeebdbfb",
   "metadata": {},
   "outputs": [
    {
     "data": {
      "text/plain": [
       "{1, 2, 3, 'Davron'}"
      ]
     },
     "execution_count": 12,
     "metadata": {},
     "output_type": "execute_result"
    }
   ],
   "source": [
    "#11  Write a Python program to create a shallow copy of set means \\exact copy of original set\n",
    "a={1,2,3,'Davron'}\n",
    "b=a.copy()\n",
    "b"
   ]
  },
  {
   "cell_type": "code",
   "execution_count": 22,
   "id": "2f62e768",
   "metadata": {},
   "outputs": [
    {
     "name": "stdout",
     "output_type": "stream",
     "text": [
      "set()\n"
     ]
    }
   ],
   "source": [
    "#12 Write a Python program to remove all elements from a given set\n",
    "b.clear()\n",
    "print(b)\n"
   ]
  },
  {
   "cell_type": "code",
   "execution_count": 24,
   "id": "c8d0f9a9",
   "metadata": {},
   "outputs": [
    {
     "name": "stdout",
     "output_type": "stream",
     "text": [
      "True\n"
     ]
    }
   ],
   "source": [
    "#13 Write a Python program to use of frozensets.Frozensets just like set expect that are immutable\n",
    "x = frozenset([1, 2,8])\n",
    "y = frozenset([3, 4, 5, 6, 7])\n",
    "#use isdisjoint(). Return True if the set has no elements in common with other. \n",
    "print(x.isdisjoint(y))"
   ]
  },
  {
   "cell_type": "code",
   "execution_count": 25,
   "id": "de0647d5",
   "metadata": {},
   "outputs": [
    {
     "name": "stdout",
     "output_type": "stream",
     "text": [
      "7\n",
      "3\n"
     ]
    }
   ],
   "source": [
    "#14 Write a Python program to find maximum and the minimum value in a set\n",
    "b={4,5,6,7,3}\n",
    "print(max(b))\n",
    "print(min(b))"
   ]
  },
  {
   "cell_type": "code",
   "execution_count": 26,
   "id": "698de468",
   "metadata": {},
   "outputs": [
    {
     "name": "stdout",
     "output_type": "stream",
     "text": [
      "5\n"
     ]
    }
   ],
   "source": [
    "#15  Write a Python program to find the length of a set.\n",
    "print(len(b))\n"
   ]
  },
  {
   "cell_type": "code",
   "execution_count": 27,
   "id": "d2424836",
   "metadata": {},
   "outputs": [
    {
     "data": {
      "text/plain": [
       "True"
      ]
     },
     "execution_count": 27,
     "metadata": {},
     "output_type": "execute_result"
    }
   ],
   "source": [
    "#16 Write a Python program to check if a given value is present in a set or not\n",
    "3 in b\n"
   ]
  },
  {
   "cell_type": "code",
   "execution_count": 30,
   "id": "9b46c22f",
   "metadata": {},
   "outputs": [
    {
     "data": {
      "text/plain": [
       "True"
      ]
     },
     "execution_count": 30,
     "metadata": {},
     "output_type": "execute_result"
    }
   ],
   "source": [
    "#17 Write a Python program to check if two given sets have no elements in common\n",
    "a={1,2,3,4,5}\n",
    "b={6,7}\n",
    "a.isdisjoint(b)\n"
   ]
  },
  {
   "cell_type": "code",
   "execution_count": 39,
   "id": "d3a913f6",
   "metadata": {},
   "outputs": [
    {
     "data": {
      "text/plain": [
       "True"
      ]
     },
     "execution_count": 39,
     "metadata": {},
     "output_type": "execute_result"
    }
   ],
   "source": [
    "#18 Write a Python program to check if a given set is superset of itself\n",
    "# and superset of another given set... Superset qolgan setni tolaligicha oz ichiga ola bilishi kk\n",
    "a={1,2,3}\n",
    "b={1}\n",
    "a.issuperset(b)\n",
    "\n"
   ]
  },
  {
   "cell_type": "code",
   "execution_count": 41,
   "id": "c7501d46",
   "metadata": {},
   "outputs": [
    {
     "name": "stdout",
     "output_type": "stream",
     "text": [
      "{2, 3}\n",
      "set()\n"
     ]
    }
   ],
   "source": [
    "#19 Write a Python program to find the elements in a given set that are not in another set.\n",
    "print(a-b)\n",
    "print(b-a)"
   ]
  },
  {
   "cell_type": "code",
   "execution_count": 50,
   "id": "1f003721",
   "metadata": {},
   "outputs": [
    {
     "name": "stdout",
     "output_type": "stream",
     "text": [
      "{1, 2, 5}\n",
      "{8, 3, 4, 7}\n"
     ]
    }
   ],
   "source": [
    "#20  Write a Python program to remove the intersection of a 2nd set from the 1st set\n",
    "a={1,2,3,4,5}\n",
    "b={3,4,7,8}\n",
    "a-=b\n",
    "print(a)\n",
    "print(b)"
   ]
  },
  {
   "cell_type": "code",
   "execution_count": null,
   "id": "b635b7f0",
   "metadata": {},
   "outputs": [],
   "source": []
  }
 ],
 "metadata": {
  "kernelspec": {
   "display_name": "Python 3 (ipykernel)",
   "language": "python",
   "name": "python3"
  },
  "language_info": {
   "codemirror_mode": {
    "name": "ipython",
    "version": 3
   },
   "file_extension": ".py",
   "mimetype": "text/x-python",
   "name": "python",
   "nbconvert_exporter": "python",
   "pygments_lexer": "ipython3",
   "version": "3.9.12"
  }
 },
 "nbformat": 4,
 "nbformat_minor": 5
}
