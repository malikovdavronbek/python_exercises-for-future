{
 "cells": [
  {
   "cell_type": "markdown",
   "id": "43d32cbf",
   "metadata": {},
   "source": [
    "# 12.11.2022"
   ]
  },
  {
   "cell_type": "code",
   "execution_count": null,
   "id": "b16695b8",
   "metadata": {},
   "outputs": [],
   "source": [
    "#1\n",
    "A=int(input('sonni kiriting:'))\n",
    "print(A>0)"
   ]
  },
  {
   "cell_type": "code",
   "execution_count": null,
   "id": "05528380",
   "metadata": {},
   "outputs": [],
   "source": [
    "#2\n",
    "A=int(input('sonni kiriting:'))\n",
    "print(A%2==0)"
   ]
  },
  {
   "cell_type": "code",
   "execution_count": null,
   "id": "e16f00a5",
   "metadata": {},
   "outputs": [],
   "source": [
    "#3\n",
    "A=int(input('sonni kiriting:'))\n",
    "print(A%2!=0)\n"
   ]
  },
  {
   "cell_type": "code",
   "execution_count": null,
   "id": "00e1e36d",
   "metadata": {},
   "outputs": [],
   "source": [
    "#4\n",
    "A=int(input('sonni kiriting:'))\n",
    "B=int(input('sonni kiriting:'))\n",
    "print(A>2 and B<=3)\n"
   ]
  },
  {
   "cell_type": "code",
   "execution_count": null,
   "id": "0bd69a3c",
   "metadata": {},
   "outputs": [],
   "source": [
    "#5\n",
    "A=int(input('sonni kiriting:'))\n",
    "B=int(input('sonni kiriting:'))\n",
    "print(A>=0 and B<-2)"
   ]
  },
  {
   "cell_type": "code",
   "execution_count": null,
   "id": "6494d40c",
   "metadata": {},
   "outputs": [],
   "source": [
    "#6\n",
    "A=int(input('sonni kiriting:'))\n",
    "B=int(input('sonni kiriting:'))\n",
    "C=int(input('sonni kiriting:'))\n",
    "print(A<=B<=C)"
   ]
  },
  {
   "cell_type": "code",
   "execution_count": null,
   "id": "b8dc28ba",
   "metadata": {},
   "outputs": [],
   "source": [
    "#7\n",
    "A=int(input('sonni kiriting:'))\n",
    "B=int(input('sonni kiriting:'))\n",
    "C=int(input('sonni kiriting:'))\n",
    "print(A<B<C)"
   ]
  },
  {
   "cell_type": "code",
   "execution_count": null,
   "id": "5eeb9474",
   "metadata": {},
   "outputs": [],
   "source": [
    "#8\n",
    "A=int(input('sonni kiriting:'))\n",
    "B=int(input('sonni kiriting:'))\n",
    "print(A%2!=0 and B%2!=0)\n"
   ]
  },
  {
   "cell_type": "code",
   "execution_count": null,
   "id": "b03f50c3",
   "metadata": {},
   "outputs": [],
   "source": [
    "#9(bunda ikkalais xam toq bolishi mumkin)\n",
    "A=int(input('sonni kiriting:'))\n",
    "B=int(input('sonni kiriting:'))\n",
    "print((A%2!=0 or B%2!=0) and (A%2!=0 and  B%2!=0))"
   ]
  },
  {
   "cell_type": "code",
   "execution_count": null,
   "id": "deb72c7f",
   "metadata": {},
   "outputs": [],
   "source": [
    "#10\n",
    "A=int(input('sonni kiriting:'))\n",
    "B=int(input('sonni kiriting:'))\n",
    "print(A%2!=0 or B%2!=0)"
   ]
  },
  {
   "cell_type": "code",
   "execution_count": null,
   "id": "31e68d83",
   "metadata": {},
   "outputs": [],
   "source": [
    "#11\n",
    "A=int(input('sonni kiriting:'))\n",
    "B=int(input('sonni kiriting:'))\n",
    "print((A%2!=0 and B%2!=0) or (A%2==0 and  B%2==0))"
   ]
  },
  {
   "cell_type": "code",
   "execution_count": null,
   "id": "2b666f0a",
   "metadata": {},
   "outputs": [],
   "source": [
    "#12\n",
    "A=int(input('sonni kiriting:'))\n",
    "B=int(input('sonni kiriting:'))\n",
    "C=int(input('sonni kiriting:'))\n",
    "print(A>0 and B>0 and C>0)"
   ]
  },
  {
   "cell_type": "code",
   "execution_count": null,
   "id": "34936417",
   "metadata": {},
   "outputs": [],
   "source": [
    "#13\n",
    "A=int(input('sonni kiriting:'))\n",
    "B=int(input('sonni kiriting:'))\n",
    "C=int(input('sonni kiriting:'))\n",
    "print((A>0 or B>0 or C>0) and  (A>0 or B>0 or C<0) and (A<0 or B<0 or C>0))"
   ]
  },
  {
   "cell_type": "code",
   "execution_count": null,
   "id": "74cc7383",
   "metadata": {},
   "outputs": [],
   "source": [
    "#14\n",
    "A=int(input('sonni kiriting:'))\n",
    "B=int(input('sonni kiriting:'))\n",
    "C=int(input('sonni kiriting:'))\n",
    "print((A>0 and B<0 and C<0) or (A<0 and B>0 and C<0) or (A<0 and B<0 and C>0))"
   ]
  },
  {
   "cell_type": "code",
   "execution_count": null,
   "id": "4ba951ac",
   "metadata": {},
   "outputs": [],
   "source": [
    "#15\n",
    "A=int(input('sonni kiriting:'))\n",
    "B=int(input('sonni kiriting:'))\n",
    "C=int(input('sonni kiriting:'))\n",
    "print((A>0 and B>0 and C<0) or (A<0 and B>0 and C>0) or (A>0 and B<0 and C>0))"
   ]
  },
  {
   "cell_type": "code",
   "execution_count": null,
   "id": "b6758eeb",
   "metadata": {},
   "outputs": [],
   "source": [
    "#16\n",
    "A=int(input('sonni kiriting:'))\n",
    "print(1<=A//10<=9 and A%2==0)"
   ]
  },
  {
   "cell_type": "code",
   "execution_count": null,
   "id": "6cc12830",
   "metadata": {},
   "outputs": [],
   "source": [
    "#17\n",
    "B=int(input('sonni kiriting:'))\n",
    "print(10<=B//10<=99 and B%2!=0)"
   ]
  },
  {
   "cell_type": "code",
   "execution_count": null,
   "id": "e4ef0638",
   "metadata": {},
   "outputs": [],
   "source": [
    "#18\n",
    "A=int(input('sonni kiriting:'))\n",
    "B=int(input('sonni kiriting:'))\n",
    "C=int(input('sonni kiriting:'))\n",
    "print((A==B==C) or (A==B!=C) or (A==C!=B))"
   ]
  },
  {
   "cell_type": "code",
   "execution_count": null,
   "id": "6ae5d777",
   "metadata": {},
   "outputs": [],
   "source": [
    "#19\n",
    "A=int(input('sonni kiriting:'))\n",
    "B=int(input('sonni kiriting:'))\n",
    "C=int(input('sonni kiriting:'))\n",
    "print((A==-B) or (B==-C) or (A==-C))"
   ]
  },
  {
   "cell_type": "code",
   "execution_count": null,
   "id": "2327860e",
   "metadata": {},
   "outputs": [],
   "source": [
    "#20\n",
    "A=int(input('sonni kiriting:'))\n",
    "print(A//100!=A%100//10!=A%100%10)"
   ]
  },
  {
   "cell_type": "code",
   "execution_count": null,
   "id": "2145e57b",
   "metadata": {},
   "outputs": [],
   "source": [
    "#21\n",
    "A=int(input('sonni kiriting:'))\n",
    "print(A//100<A%100//10<A%100%10)"
   ]
  },
  {
   "cell_type": "code",
   "execution_count": null,
   "id": "324d009c",
   "metadata": {},
   "outputs": [],
   "source": [
    "#22\n",
    "A=int(input('sonni kiriting:'))\n",
    "print((A//100<A%100//10<A%100%10) or (A//100>A%100//10>A%100%10) )"
   ]
  },
  {
   "cell_type": "code",
   "execution_count": null,
   "id": "56089baa",
   "metadata": {},
   "outputs": [],
   "source": [
    "#23\n",
    "A=int(input('sonni kiriting:'))\n",
    "print((A//100==A%100//10==A%100%10) or (A//100==A%100%10!=A%100//10))"
   ]
  },
  {
   "cell_type": "code",
   "execution_count": null,
   "id": "a784bcf2",
   "metadata": {},
   "outputs": [],
   "source": [
    "#24\n",
    "A=int(input('sonni kiriting:'))\n",
    "B=int(input('sonni kiriting:'))\n",
    "C=int(input('sonni kiriting:'))\n",
    "D=pow(B,2)-4*A*C\n",
    "if D>0:\n",
    "    print('tenglama 2 ta xaqiqiy ildizga ega:')\n",
    "elif D==0:\n",
    "    print('tengama 2 ta teng xaqiqiy ildizga ega:')\n",
    "else:\n",
    "    print('bosh toplam')"
   ]
  },
  {
   "cell_type": "code",
   "execution_count": null,
   "id": "df8ba58b",
   "metadata": {},
   "outputs": [],
   "source": [
    "#25\n",
    "x=int(input('sonni kiriting:'))\n",
    "y=int(input('sonni kiriting:'))\n",
    "if x<0 and y>0:\n",
    "    print('nuqta 2- chorakda yotadi:')\n",
    "else:\n",
    "    print('out of box')"
   ]
  },
  {
   "cell_type": "code",
   "execution_count": null,
   "id": "6f8be38e",
   "metadata": {},
   "outputs": [],
   "source": [
    "#26\n",
    "x=int(input('sonni kiriting:'))\n",
    "y=int(input('sonni kiriting:'))\n",
    "if x>0 and y<0:\n",
    "    print('nuqta 4- chorakda yotadi:')\n",
    "else:\n",
    "    print('out of box')\n"
   ]
  },
  {
   "cell_type": "code",
   "execution_count": null,
   "id": "693d285f",
   "metadata": {},
   "outputs": [],
   "source": [
    "#27\n",
    "x=int(input('sonni kiriting:'))\n",
    "y=int(input('sonni kiriting:'))\n",
    "if (x>0 and y<0) or (x<0 and y<0):\n",
    "    print('nuqta 2 yoki 3 - chorakda yotadi:')\n",
    "else:\n",
    "    print('out of box')"
   ]
  },
  {
   "cell_type": "code",
   "execution_count": null,
   "id": "5a1a7374",
   "metadata": {},
   "outputs": [],
   "source": [
    "#28\n",
    "x=int(input('sonni kiriting:'))\n",
    "y=int(input('sonni kiriting:'))\n",
    "if (x>0 and y>0) or (x<0 and y<0):\n",
    "    print('nuqta 1 yoki 3 - chorakda yotadi:')\n",
    "else:\n",
    "    print('out of box')"
   ]
  },
  {
   "cell_type": "code",
   "execution_count": 1,
   "id": "fd4fde03",
   "metadata": {},
   "outputs": [
    {
     "name": "stdout",
     "output_type": "stream",
     "text": [
      "sonni kiriting:2\n",
      "sonni kiriting:3\n",
      "sonni kiriting:1\n",
      "sonni kiriting:2\n",
      "sonni kiriting:4\n",
      "sonni kiriting:5\n",
      " x va y nuqtalar 4 burchak ichida yotadi:\n"
     ]
    }
   ],
   "source": [
    "#29\n",
    "x=int(input('sonni kiriting:'))\n",
    "y=int(input('sonni kiriting:'))\n",
    "x_1=int(input('sonni kiriting:'))\n",
    "y_1=int(input('sonni kiriting:'))\n",
    "x_2=int(input('sonni kiriting:'))\n",
    "y_2=int(input('sonni kiriting:'))\n",
    "if x_1<x<x_2 and y_1<y<y_2:\n",
    "    print(' x va y nuqtalar 4 burchak ichida yotadi:')\n",
    "else:\n",
    "    print('out of box')"
   ]
  },
  {
   "cell_type": "code",
   "execution_count": 3,
   "id": "33b1f255",
   "metadata": {},
   "outputs": [
    {
     "name": "stdout",
     "output_type": "stream",
     "text": [
      "sonni kiriting:1\n",
      "sonni kiriting:1\n",
      "sonni kiriting:1\n",
      "uchburchak teng tomonlidir\n"
     ]
    }
   ],
   "source": [
    "#30\n",
    "a=int(input('sonni kiriting:'))\n",
    "b=int(input('sonni kiriting:'))\n",
    "c=int(input('sonni kiriting:'))\n",
    "if a==b==c:\n",
    "    print('uchburchak teng tomonlidir')\n",
    "else:\n",
    "    print('boshqa turdagi uchburchak yoki umuman uchburchak bola olmaydi:')"
   ]
  },
  {
   "cell_type": "code",
   "execution_count": 4,
   "id": "841c4156",
   "metadata": {},
   "outputs": [
    {
     "name": "stdout",
     "output_type": "stream",
     "text": [
      "sonni kiriting:4\n",
      "sonni kiriting:3\n",
      "sonni kiriting:3\n",
      "uchburchak teng yonli\n"
     ]
    }
   ],
   "source": [
    "#31\n",
    "a=int(input('sonni kiriting:'))\n",
    "b=int(input('sonni kiriting:'))\n",
    "c=int(input('sonni kiriting:'))\n",
    "if a!=b==c:\n",
    "    print('uchburchak teng yonli')\n",
    "else:\n",
    "    print('boshqa turdagi uchburchak yoki umuman uchburchak bola olmaydi:')"
   ]
  },
  {
   "cell_type": "code",
   "execution_count": 5,
   "id": "f6d90aed",
   "metadata": {},
   "outputs": [
    {
     "name": "stdout",
     "output_type": "stream",
     "text": [
      "sonni kiriting:3\n",
      "sonni kiriting:4\n",
      "sonni kiriting:5\n",
      "uchburchak togri burchakli\n"
     ]
    }
   ],
   "source": [
    "#32\n",
    "a=int(input('sonni kiriting:'))\n",
    "b=int(input('sonni kiriting:'))\n",
    "c=int(input('sonni kiriting:'))\n",
    "if pow(a,2)+pow(b,2)==pow(c,2):\n",
    "    print('uchburchak togri burchakli')\n",
    "else:\n",
    "    print('boshqa turdagi uchburchak yoki umuman uchburchak bola olmaydi:')\n"
   ]
  },
  {
   "cell_type": "code",
   "execution_count": 7,
   "id": "7e3c8192",
   "metadata": {},
   "outputs": [
    {
     "name": "stdout",
     "output_type": "stream",
     "text": [
      "sonni kiriting:4\n",
      "sonni kiriting:5\n",
      "sonni kiriting:7\n",
      "uchburchak yashash mumkin\n"
     ]
    }
   ],
   "source": [
    "#33\n",
    "a=int(input('sonni kiriting:'))\n",
    "b=int(input('sonni kiriting:'))\n",
    "c=int(input('sonni kiriting:'))\n",
    "if a+b>c and a+c>b and b+c>a:\n",
    "    print('uchburchak yashash mumkin')\n",
    "else:\n",
    "    print('out of box')"
   ]
  },
  {
   "cell_type": "code",
   "execution_count": 9,
   "id": "f7013806",
   "metadata": {},
   "outputs": [
    {
     "name": "stdout",
     "output_type": "stream",
     "text": [
      "sonni kiriting:4\n",
      "sonni kiriting:4\n",
      "maydon qora yoki out box\n"
     ]
    }
   ],
   "source": [
    "#34(x toq da y juftlarda oq va x juftda y toq da oq)\n",
    "x=int(input('sonni kiriting:'))\n",
    "y=int(input('sonni kiriting:'))\n",
    "if (x%2!=0 and y%2==0) or (x%2==0 and y%2!=0):\n",
    "    print('maydon oq')\n",
    "else:\n",
    "    print('maydon qora yoki out box')\n"
   ]
  },
  {
   "cell_type": "code",
   "execution_count": 10,
   "id": "ffbe7bb7",
   "metadata": {},
   "outputs": [
    {
     "name": "stdout",
     "output_type": "stream",
     "text": [
      "sonni kiriting:4\n",
      "sonni kiriting:3\n",
      "sonni kiriting:6\n",
      "sonni kiriting:3\n",
      "bir xil rangda\n"
     ]
    }
   ],
   "source": [
    "#35\n",
    "x_1=int(input('sonni kiriting:'))\n",
    "y_1=int(input('sonni kiriting:'))\n",
    "x_2=int(input('sonni kiriting:'))\n",
    "y_2=int(input('sonni kiriting:'))\n",
    "if (x_1%2==0 and y_1!=0) and (x_2%2==0 and y_2!=0):\n",
    "    print('bir xil rangda')\n",
    "elif (x_1%2!=0 and y_1==0) and (x_2%2!=0 and y_2==0):\n",
    "    print('bir xil rangda')\n",
    "else:\n",
    "    print('xar xil ragda yoki out of box')"
   ]
  },
  {
   "cell_type": "code",
   "execution_count": null,
   "id": "20ebe14a",
   "metadata": {},
   "outputs": [],
   "source": [
    "Izox:35-40 misollar shaxmatdan bilimi borlar uchun shuning uchun tashlab ketamiz"
   ]
  }
 ],
 "metadata": {
  "kernelspec": {
   "display_name": "Python 3 (ipykernel)",
   "language": "python",
   "name": "python3"
  },
  "language_info": {
   "codemirror_mode": {
    "name": "ipython",
    "version": 3
   },
   "file_extension": ".py",
   "mimetype": "text/x-python",
   "name": "python",
   "nbconvert_exporter": "python",
   "pygments_lexer": "ipython3",
   "version": "3.9.12"
  }
 },
 "nbformat": 4,
 "nbformat_minor": 5
}
