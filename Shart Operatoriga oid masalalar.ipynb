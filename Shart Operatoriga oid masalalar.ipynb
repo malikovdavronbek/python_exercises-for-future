{
 "cells": [
  {
   "cell_type": "markdown",
   "id": "62cc4d10",
   "metadata": {},
   "source": [
    "# 13.11.2022"
   ]
  },
  {
   "cell_type": "code",
   "execution_count": 70,
   "id": "cc8a25b1",
   "metadata": {},
   "outputs": [
    {
     "name": "stdout",
     "output_type": "stream",
     "text": [
      "sonni kiriting:12\n",
      "13\n"
     ]
    }
   ],
   "source": [
    "#if1\n",
    "x=int(input('sonni kiriting:'))\n",
    "if x>0:\n",
    "    print(x+1)\n",
    "else:\n",
    "    print(x)"
   ]
  },
  {
   "cell_type": "code",
   "execution_count": null,
   "id": "604358b9",
   "metadata": {},
   "outputs": [],
   "source": [
    "#if2\n",
    "x=int(input('sonni kiriting:'))\n",
    "if x>0:\n",
    "    print(x+1)\n",
    "else:\n",
    "    print(x-2)"
   ]
  },
  {
   "cell_type": "code",
   "execution_count": 3,
   "id": "dbc5b99e",
   "metadata": {},
   "outputs": [
    {
     "name": "stdout",
     "output_type": "stream",
     "text": [
      "sonni kiriting:0\n",
      "10\n"
     ]
    }
   ],
   "source": [
    "#if3\n",
    "x=int(input('sonni kiriting:'))\n",
    "if x>0:\n",
    "    print(x+1)\n",
    "elif x<0:\n",
    "    print(x-2)\n",
    "else:\n",
    "    print(10)"
   ]
  },
  {
   "cell_type": "code",
   "execution_count": 5,
   "id": "ee985ffe",
   "metadata": {},
   "outputs": [
    {
     "name": "stdout",
     "output_type": "stream",
     "text": [
      "sonni kiriting:-3\n",
      "sonni kiriting:2\n",
      "sonni kiriting:3\n",
      "2 ta musbat son bor\n"
     ]
    }
   ],
   "source": [
    "#if4\n",
    "x=int(input('sonni kiriting:'))\n",
    "y=int(input('sonni kiriting:'))\n",
    "z=int(input('sonni kiriting:'))\n",
    "if x>0 and y>0 and z>0:\n",
    "    print('3 ta musbat son bor')\n",
    "elif (x>0 and y>0 and z<0) or (x>0 and y<0 and z>0) or (x<0 and y>0 and z>0):\n",
    "    print('2 ta musbat son bor')\n",
    "elif (x>0 and y<0 and z<0) or (x<0 and y>0 and z<0) or (x<0 and y<0 and z>0):\n",
    "    print('1 ta musbat son mavjud')\n",
    "else:\n",
    "    print('barcha son manfiy yoki nolga teng')\n"
   ]
  },
  {
   "cell_type": "code",
   "execution_count": 6,
   "id": "069cc938",
   "metadata": {},
   "outputs": [
    {
     "name": "stdout",
     "output_type": "stream",
     "text": [
      "sonni kiriting:2\n",
      "sonni kiriting:3\n",
      "sonni kiriting:-9\n",
      "2 ta musbat va 1 ta manfiy son bor\n"
     ]
    }
   ],
   "source": [
    "#if5\n",
    "x=int(input('sonni kiriting:'))\n",
    "y=int(input('sonni kiriting:'))\n",
    "z=int(input('sonni kiriting:'))\n",
    "if x>0 and y>0 and z>0:\n",
    "    print('3 ta musbat  son bor')\n",
    "elif (x>0 and y>0 and z<0) or (x>0 and y<0 and z>0) or (x<0 and y>0 and z>0):\n",
    "    print('2 ta musbat va 1 ta manfiy son bor')\n",
    "elif (x>0 and y<0 and z<0) or (x<0 and y>0 and z<0) or (x<0 and y<0 and z>0):\n",
    "    print('1 ta musbat va 2 ta manfiy son mavjud')\n",
    "else:\n",
    "    print('barcha son manfiy yoki nolga teng')\n"
   ]
  },
  {
   "cell_type": "code",
   "execution_count": 7,
   "id": "e53d47f1",
   "metadata": {},
   "outputs": [
    {
     "name": "stdout",
     "output_type": "stream",
     "text": [
      "sonni kiriting:2\n",
      "sonni kiriting:3\n",
      "3\n"
     ]
    }
   ],
   "source": [
    "#if6\n",
    "x=int(input('sonni kiriting:'))\n",
    "y=int(input('sonni kiriting:'))\n",
    "print(max(x,y))\n"
   ]
  },
  {
   "cell_type": "code",
   "execution_count": 12,
   "id": "686ce5e5",
   "metadata": {},
   "outputs": [
    {
     "name": "stdout",
     "output_type": "stream",
     "text": [
      "sonni kiriting:3\n",
      "sonni kiriting:3\n",
      "ikkalasi bir xil son\n"
     ]
    }
   ],
   "source": [
    "#if7\n",
    "x=int(input('sonni kiriting:'))\n",
    "y=int(input('sonni kiriting:'))\n",
    "if x==y:\n",
    "    print('ikkalasi bir xil son')\n",
    "elif min(x,y)==x:\n",
    "    print(' kichigini tartib raqami:1')\n",
    "elif min(x,y)==y:\n",
    "    print(' kichigini tartib raqami:2')\n",
    "else:\n",
    "    print('out of box')"
   ]
  },
  {
   "cell_type": "code",
   "execution_count": 13,
   "id": "dba7b232",
   "metadata": {},
   "outputs": [
    {
     "name": "stdout",
     "output_type": "stream",
     "text": [
      "sonni kiriting:3\n",
      "sonni kiriting:4\n",
      "4\n",
      "3\n"
     ]
    }
   ],
   "source": [
    "#if8\n",
    "x=int(input('sonni kiriting:'))\n",
    "y=int(input('sonni kiriting:'))\n",
    "print(max(x,y))\n",
    "print(min(x,y))"
   ]
  },
  {
   "cell_type": "code",
   "execution_count": 18,
   "id": "27a4e132",
   "metadata": {},
   "outputs": [
    {
     "name": "stdout",
     "output_type": "stream",
     "text": [
      "sonni kiriting:3\n",
      "sonni kiriting:2\n",
      "2\n",
      "3\n"
     ]
    }
   ],
   "source": [
    "#if9\n",
    "A=int(input('sonni kiriting:'))\n",
    "B=int(input('sonni kiriting:'))\n",
    "if A>B:\n",
    "    A,B=B,A\n",
    "    print(A)\n",
    "    print(B)\n",
    "elif A<B:\n",
    "    print(A)\n",
    "    print(B)\n",
    "else:\n",
    "    print(A,B)"
   ]
  },
  {
   "cell_type": "code",
   "execution_count": 23,
   "id": "bb1a9e05",
   "metadata": {},
   "outputs": [
    {
     "name": "stdout",
     "output_type": "stream",
     "text": [
      "sonni kiriting:5\n",
      "sonni kiriting:5\n",
      "A = 0\n",
      "B = 0\n"
     ]
    }
   ],
   "source": [
    "#if10\n",
    "A=int(input('sonni kiriting:'))\n",
    "B=int(input('sonni kiriting:'))\n",
    "if A!=B:\n",
    "    print('A =',A+B)\n",
    "    print('B =',A+B)\n",
    "elif A==B:\n",
    "    print('A =',0)\n",
    "    print('B =',0)"
   ]
  },
  {
   "cell_type": "code",
   "execution_count": 24,
   "id": "fd3aadc5",
   "metadata": {},
   "outputs": [
    {
     "name": "stdout",
     "output_type": "stream",
     "text": [
      "sonni kiriting:3\n",
      "sonni kiriting:4\n",
      "A = 4\n",
      "B = 4\n"
     ]
    }
   ],
   "source": [
    "#if11\n",
    "A=int(input('sonni kiriting:'))\n",
    "B=int(input('sonni kiriting:'))\n",
    "if A!=B:\n",
    "    print('A =',max(A,B))\n",
    "    print('B =',max(A,B))\n",
    "elif A==B:\n",
    "    print('A =',0)\n",
    "    print('B =',0)"
   ]
  },
  {
   "cell_type": "code",
   "execution_count": 28,
   "id": "cfa19e53",
   "metadata": {},
   "outputs": [
    {
     "name": "stdout",
     "output_type": "stream",
     "text": [
      "sonni kiriting:2\n",
      "sonni kiriting:3\n",
      "sonni kiriting:4\n",
      "eng kichik son:x = 2\n"
     ]
    }
   ],
   "source": [
    "#if12\n",
    "x=int(input('sonni kiriting:'))\n",
    "y=int(input('sonni kiriting:'))\n",
    "z=int(input('sonni kiriting:'))\n",
    "if x<y<z or x<z<y:\n",
    "    print('eng kichik son:x =',x)\n",
    "\n",
    "elif y<x<z or y<z<x:\n",
    "    print('eng kichik son:y =',y)\n",
    "elif z<x<y or z<y<x:\n",
    "    print('eng kichik son:z =',z)\n",
    "else:\n",
    "    print('barcha sonlar ozaro teng yoki sonlardan bir jufti teng')"
   ]
  },
  {
   "cell_type": "code",
   "execution_count": 30,
   "id": "9b68fdf4",
   "metadata": {},
   "outputs": [
    {
     "name": "stdout",
     "output_type": "stream",
     "text": [
      "sonni kiriting:2\n",
      "sonni kiriting:3\n",
      "sonni kiriting:4\n",
      "ortacha son:y = 3\n"
     ]
    }
   ],
   "source": [
    "#if13\n",
    "x=int(input('sonni kiriting:'))\n",
    "y=int(input('sonni kiriting:'))\n",
    "z=int(input('sonni kiriting:'))\n",
    "if min(x,y,z)<x<max(x,y,z):\n",
    "    print('ortacha son:x =',x)\n",
    "elif min(x,y,z)<y<max(x,y,z):\n",
    "    print('ortacha son:y =',y)\n",
    "elif min(x,y,z)<z<max(x,y,z):\n",
    "    print('ortacha son:z =',z)"
   ]
  },
  {
   "cell_type": "code",
   "execution_count": 31,
   "id": "034de00a",
   "metadata": {},
   "outputs": [
    {
     "name": "stdout",
     "output_type": "stream",
     "text": [
      "sonni kiriting:1\n",
      "sonni kiriting:2\n",
      "sonni kiriting:3\n",
      "1\n",
      "3\n"
     ]
    }
   ],
   "source": [
    "#if14\n",
    "x=int(input('sonni kiriting:'))\n",
    "y=int(input('sonni kiriting:'))\n",
    "z=int(input('sonni kiriting:'))\n",
    "print(min(x,y,z))\n",
    "print(max(x,y,z))"
   ]
  },
  {
   "cell_type": "code",
   "execution_count": 33,
   "id": "f1c0ccff",
   "metadata": {},
   "outputs": [
    {
     "name": "stdout",
     "output_type": "stream",
     "text": [
      "sonni kiriting:3\n",
      "sonni kiriting:6\n",
      "sonni kiriting:1\n",
      "yigindisi eng katta boladigan ikkita sonalar va yigindisi: 3 6 9\n"
     ]
    }
   ],
   "source": [
    "#if15\n",
    "x=int(input('sonni kiriting:'))\n",
    "y=int(input('sonni kiriting:'))\n",
    "z=int(input('sonni kiriting:'))\n",
    "if x<y<z or x<z<y:\n",
    "    print('yigindisi eng katta boladigan ikkita sonalar va yigindisi:',y,z,y+z)\n",
    "elif y<x<z or y<z<x:\n",
    "    print('yigindisi eng katta boladigan ikkita sonalar va yigindisi:',x,z,x+z)    \n",
    "elif z<x<y or z<y<x:\n",
    "    print('yigindisi eng katta boladigan ikkita sonalar va yigindisi:',x,y,x+y)\n",
    "else:\n",
    "    print('ozaro teng bolgan sonlar mavjud yoki xatolik mavjud')"
   ]
  },
  {
   "cell_type": "code",
   "execution_count": 35,
   "id": "743423c9",
   "metadata": {},
   "outputs": [
    {
     "name": "stdout",
     "output_type": "stream",
     "text": [
      "sonni kiriting:2\n",
      "sonni kiriting:3\n",
      "sonni kiriting:1\n",
      "-2 -3 -1\n"
     ]
    }
   ],
   "source": [
    "#if16\n",
    "A=int(input('sonni kiriting:'))\n",
    "B=int(input('sonni kiriting:'))\n",
    "C=int(input('sonni kiriting:'))\n",
    "if A<B<C:\n",
    "    print(2*A, 2*B, 2*C)\n",
    "else:\n",
    "    print(-A, -B, -C)"
   ]
  },
  {
   "cell_type": "code",
   "execution_count": 38,
   "id": "a4165604",
   "metadata": {},
   "outputs": [
    {
     "name": "stdout",
     "output_type": "stream",
     "text": [
      "sonni kiriting:1\n",
      "sonni kiriting:4\n",
      "sonni kiriting:2\n",
      "-1 -4 -2\n"
     ]
    }
   ],
   "source": [
    "#if17\n",
    "A=int(input('sonni kiriting:'))\n",
    "B=int(input('sonni kiriting:'))\n",
    "C=int(input('sonni kiriting:'))\n",
    "if A<B<C or A>B>C:\n",
    "    print(2*A, 2*B, 2*C)\n",
    "else:\n",
    "    print(-A, -B, -C)"
   ]
  },
  {
   "cell_type": "code",
   "execution_count": 41,
   "id": "7280744b",
   "metadata": {},
   "outputs": [
    {
     "name": "stdout",
     "output_type": "stream",
     "text": [
      "sonni kiriting:1\n",
      "sonni kiriting:4\n",
      "sonni kiriting:4\n",
      "teng bolmagan son:x va uning tartib raqami = 1\n"
     ]
    }
   ],
   "source": [
    "#if18\n",
    "x=int(input('sonni kiriting:'))\n",
    "y=int(input('sonni kiriting:'))\n",
    "z=int(input('sonni kiriting:'))\n",
    "if x==y!=z:\n",
    "    print('teng bolmagan son:z va uning tartib raqami =', 3)\n",
    "elif x==z!=y:\n",
    "    print('teng bolmagan son:y va uning tartib raqami =', 2)\n",
    "elif z==y!=x:\n",
    "    print('teng bolmagan son:x va uning tartib raqami =', 1)\n",
    "else:\n",
    "    print('out of box')\n",
    "         "
   ]
  },
  {
   "cell_type": "code",
   "execution_count": 42,
   "id": "201b5f07",
   "metadata": {},
   "outputs": [
    {
     "name": "stdout",
     "output_type": "stream",
     "text": [
      "sonni kiriting:4\n",
      "sonni kiriting:1\n",
      "sonni kiriting:1\n",
      "sonni kiriting:1\n",
      "teng bolmagan son:x va uning tartib raqami = 1\n"
     ]
    }
   ],
   "source": [
    "#if19\n",
    "x=int(input('sonni kiriting:'))\n",
    "y=int(input('sonni kiriting:'))\n",
    "z=int(input('sonni kiriting:'))\n",
    "t=int(input('sonni kiriting:'))\n",
    "if x==y==z!=t:\n",
    "    print('teng bolmagan son:t va uning tartib raqami =', 4)\n",
    "elif t==x==y!=z:\n",
    "    print('teng bolmagan son:z va uning tartib raqami =', 3)\n",
    "elif t==x==z!=y:\n",
    "    print('teng bolmagan son:y va uning tartib raqami =', 2)\n",
    "elif t==z==y!=x:\n",
    "    print('teng bolmagan son:x va uning tartib raqami =', 1)\n",
    "else:\n",
    "    print('out of box')"
   ]
  },
  {
   "cell_type": "code",
   "execution_count": 45,
   "id": "a743f8cd",
   "metadata": {},
   "outputs": [
    {
     "name": "stdout",
     "output_type": "stream",
     "text": [
      "sonni kiriting:1\n",
      "sonni kiriting:2\n",
      "sonni kiriting:6\n",
      "A ga eng yaqin nuqta: 6\n",
      "A va C nuqtalar orasidagi masofa: 5\n"
     ]
    }
   ],
   "source": [
    "#if20\n",
    "A=int(input('sonni kiriting:'))\n",
    "B=int(input('sonni kiriting:'))\n",
    "C=int(input('sonni kiriting:'))\n",
    "if A-B<A-C:\n",
    "    print('A ga eng yaqin nuqta:', B)\n",
    "    print('A va B nuqtalar orasidagi masofa:', abs(A-B))\n",
    "elif A-B>A-C:\n",
    "    print('A ga eng yaqin nuqta:', C)\n",
    "    print('A va C nuqtalar orasidagi masofa:', abs(A-C))"
   ]
  },
  {
   "cell_type": "code",
   "execution_count": 48,
   "id": "76458f44",
   "metadata": {},
   "outputs": [
    {
     "name": "stdout",
     "output_type": "stream",
     "text": [
      "nuqtani kiriting:2\n",
      "nuqtani kiriting:0\n",
      "1\n"
     ]
    }
   ],
   "source": [
    "#if21\n",
    "x=int(input('nuqtani kiriting:'))\n",
    "y=int(input('nuqtani kiriting:'))\n",
    "if x==y==0:\n",
    "    print(0)\n",
    "elif x!=0 and y==0:\n",
    "    print(1)\n",
    "elif x==0 and y!=0:\n",
    "    print(2)\n",
    "else:\n",
    "    print('koordinatalar oqi atrofida joylashmadi', 3)"
   ]
  },
  {
   "cell_type": "code",
   "execution_count": 49,
   "id": "5d8b00e6",
   "metadata": {},
   "outputs": [
    {
     "name": "stdout",
     "output_type": "stream",
     "text": [
      "nuqtani kiriting:3\n",
      "nuqtani kiriting:4\n",
      "1 chorak\n"
     ]
    }
   ],
   "source": [
    "#if22\n",
    "x=int(input('nuqtani kiriting:'))\n",
    "y=int(input('nuqtani kiriting:'))\n",
    "if x>0 and y>0:\n",
    "    print('1 chorak')\n",
    "elif x<0 and y>0:\n",
    "    print(' 2 chorak')\n",
    "elif x<0 and y<0:\n",
    "    print(' 3 chorak')\n",
    "elif x>0 and y<0:\n",
    "    print('4 chorak')\n",
    "else:\n",
    "    print('nuqatalar koordinata otrofida joylashgan')\n",
    "    \n"
   ]
  },
  {
   "cell_type": "code",
   "execution_count": 50,
   "id": "ad9c018a",
   "metadata": {},
   "outputs": [
    {
     "name": "stdout",
     "output_type": "stream",
     "text": [
      "nuqtani kiriting:1\n",
      "nuqtani kiriting:2\n",
      "nuqtani kiriting:3\n",
      "nuqtani kiriting:4\n",
      "nuqtani kiriting:5\n",
      "nuqtani kiriting:6\n",
      "-1\n",
      "0\n"
     ]
    }
   ],
   "source": [
    "#if23\n",
    "x_1=int(input('nuqtani kiriting:'))\n",
    "y_1=int(input('nuqtani kiriting:'))\n",
    "x_2=int(input('nuqtani kiriting:'))\n",
    "y_2=int(input('nuqtani kiriting:'))\n",
    "x_3=int(input('nuqtani kiriting:'))\n",
    "y_3=int(input('nuqtani kiriting:'))\n",
    "x_4=x_1+x_2-x_3\n",
    "y_4=y_1+y_2-y_3\n",
    "print(x_4)\n",
    "print(y_4)"
   ]
  },
  {
   "cell_type": "code",
   "execution_count": 55,
   "id": "e622c845",
   "metadata": {},
   "outputs": [
    {
     "name": "stdout",
     "output_type": "stream",
     "text": [
      "nuqtani kiriting:4\n",
      "sinx: -0.7568024953079282\n"
     ]
    }
   ],
   "source": [
    "#if24\n",
    "import math\n",
    "x=int(input('nuqtani kiriting:'))\n",
    "if x>0:\n",
    "    print('sinx:', math.sin(x))\n",
    "elif x<=0:\n",
    "    print('x-6=',x-6)\n",
    "    \n"
   ]
  },
  {
   "cell_type": "code",
   "execution_count": 57,
   "id": "de07ea5b",
   "metadata": {},
   "outputs": [
    {
     "name": "stdout",
     "output_type": "stream",
     "text": [
      "nuqtani kiriting:3\n",
      "-9\n"
     ]
    }
   ],
   "source": [
    "#if25\n",
    "x=int(input('sonni kiriting:'))\n",
    "if -2<x<2:\n",
    "    print(2*x)\n",
    "else:\n",
    "    print(-3*x)\n"
   ]
  },
  {
   "cell_type": "code",
   "execution_count": 58,
   "id": "7c68e5f9",
   "metadata": {},
   "outputs": [
    {
     "name": "stdout",
     "output_type": "stream",
     "text": [
      "nuqtani kiriting:-3\n",
      "3\n"
     ]
    }
   ],
   "source": [
    "#if26\n",
    "x=int(input('sonni kiriting:'))\n",
    "if x<=0:\n",
    "    print(-x)\n",
    "elif 0<x<2:\n",
    "    print(pow(x,2))\n",
    "elif x>=2:\n",
    "    print(4)\n"
   ]
  },
  {
   "cell_type": "code",
   "execution_count": 59,
   "id": "253627d8",
   "metadata": {},
   "outputs": [
    {
     "name": "stdout",
     "output_type": "stream",
     "text": [
      "nuqtani kiriting:4\n",
      "1\n"
     ]
    }
   ],
   "source": [
    "#if27\n",
    "x=int(input('sonni kiriting:'))\n",
    "if x<0:\n",
    "    print(0)\n",
    "elif x%2==0:\n",
    "    print(1)\n",
    "elif x%2!=0:\n",
    "    print(-1)\n",
    "    \n"
   ]
  },
  {
   "cell_type": "code",
   "execution_count": 64,
   "id": "a21e7e2b",
   "metadata": {},
   "outputs": [
    {
     "name": "stdout",
     "output_type": "stream",
     "text": [
      "yilni  kiriting:4\n",
      "Bu yil kabisa yili\n"
     ]
    }
   ],
   "source": [
    "#if28\n",
    "x=int(input('yilni  kiriting:'))\n",
    "if x%100==0:\n",
    "    if x%400==0:\n",
    "        print('Bu yil kabisa yili')\n",
    "    else:\n",
    "        print('Bu yil kabisa yil emas')\n",
    "elif x%4==0:\n",
    "    print('Bu yil kabisa yili')\n"
   ]
  },
  {
   "cell_type": "code",
   "execution_count": 68,
   "id": "d1bb33c7",
   "metadata": {},
   "outputs": [
    {
     "name": "stdout",
     "output_type": "stream",
     "text": [
      "sonni  kiriting:33\n",
      " x musbat toq son\n"
     ]
    }
   ],
   "source": [
    "#if29\n",
    "x=int(input('sonni  kiriting:'))\n",
    "if x>0 and x%2!=0:\n",
    "    print(' x musbat toq son')\n",
    "elif x<0 and x%2==0:\n",
    "    print(' x manfiy juft son')\n",
    "elif x==0:\n",
    "    print('son nolga teng')\n",
    "else:\n",
    "    print('xatolik bor')"
   ]
  },
  {
   "cell_type": "code",
   "execution_count": 69,
   "id": "1e391937",
   "metadata": {},
   "outputs": [
    {
     "name": "stdout",
     "output_type": "stream",
     "text": [
      "sonni  kiriting:123\n",
      "berilgan son 1-999 oraligida\n",
      "x uch xonali toq son\n"
     ]
    }
   ],
   "source": [
    "#if30\n",
    "x=int(input('sonni  kiriting:'))\n",
    "if 1<x<999:\n",
    "    print('berilgan son 1-999 oraligida')\n",
    "    if 1<=x//10<=9 and x%2==0:\n",
    "        print('x ikki xonali juft son')\n",
    "    elif 1<=x//100<=9 and x%2!=0:\n",
    "        print('x uch xonali toq son')\n",
    "\n"
   ]
  },
  {
   "cell_type": "code",
   "execution_count": null,
   "id": "38fb2546",
   "metadata": {},
   "outputs": [],
   "source": [
    "By Davronbek Malikov"
   ]
  },
  {
   "cell_type": "code",
   "execution_count": null,
   "id": "7a8d5fbd",
   "metadata": {},
   "outputs": [],
   "source": []
  }
 ],
 "metadata": {
  "kernelspec": {
   "display_name": "Python 3 (ipykernel)",
   "language": "python",
   "name": "python3"
  },
  "language_info": {
   "codemirror_mode": {
    "name": "ipython",
    "version": 3
   },
   "file_extension": ".py",
   "mimetype": "text/x-python",
   "name": "python",
   "nbconvert_exporter": "python",
   "pygments_lexer": "ipython3",
   "version": "3.9.12"
  }
 },
 "nbformat": 4,
 "nbformat_minor": 5
}
