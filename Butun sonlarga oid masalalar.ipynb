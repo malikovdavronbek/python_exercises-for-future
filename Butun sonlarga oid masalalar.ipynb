{
 "cells": [
  {
   "cell_type": "markdown",
   "id": "bfd0a536",
   "metadata": {},
   "source": [
    "# 11.11.2022 Butun sonlarga oid masalalar\n"
   ]
  },
  {
   "cell_type": "code",
   "execution_count": null,
   "id": "6aab856c",
   "metadata": {},
   "outputs": [],
   "source": [
    "#Integer1\n",
    "l=int(input('uzunlikni kiriting:'))\n",
    "print('uzunlik qiymati metr xisobida:', l//100)"
   ]
  },
  {
   "cell_type": "code",
   "execution_count": null,
   "id": "49d7700f",
   "metadata": {},
   "outputs": [],
   "source": [
    "#Integer2\n",
    "m=int(input('massani kiriting:'))\n",
    "print('massa tonna xisobida:', m//1000)\n",
    "\n",
    "    "
   ]
  },
  {
   "cell_type": "code",
   "execution_count": null,
   "id": "0c045aa0",
   "metadata": {},
   "outputs": [],
   "source": [
    "#Integer3\n",
    "d=int(input('baytlarni kiriting:'))\n",
    "print('kilobayt  xisobida:', d//1024)"
   ]
  },
  {
   "cell_type": "code",
   "execution_count": null,
   "id": "9036338a",
   "metadata": {},
   "outputs": [],
   "source": [
    "#Integer4\n",
    "A=int(input('kesmani kiriting:'))\n",
    "B=int(input('kesmani kiriting:'))\n",
    "if A>B:\n",
    "    print('A kesma ichida B kesmadan joylashishi mumkin bolganlari soni:', A//B)\n",
    "else:\n",
    "    print('A kesma katta bolishi kerak yoki qiymatlarda xatoliklar bor')"
   ]
  },
  {
   "cell_type": "code",
   "execution_count": null,
   "id": "c1c3bb95",
   "metadata": {},
   "outputs": [],
   "source": [
    "#Integer5\n",
    "A=int(input('kesmani kiriting:'))\n",
    "B=int(input('kesmani kiriting:'))\n",
    "if A>B:\n",
    "    print('A kesma ichida B kesmadan joylashmay qolgan qismi uzunligi:', A%B)\n",
    "else:\n",
    "    print('A kesma katta bolishi kerak yoki qiymatlarda xatoliklar bor')"
   ]
  },
  {
   "cell_type": "code",
   "execution_count": null,
   "id": "78e2152c",
   "metadata": {},
   "outputs": [],
   "source": [
    "#Integer6\n",
    "x=int(input('ikki xonali sonni kiriting:'))\n",
    "print('onliklar xonasidagi raqam:', x//10)\n",
    "print('birliklar xonasidagi raqam:', x%10)"
   ]
  },
  {
   "cell_type": "code",
   "execution_count": null,
   "id": "fce70b7b",
   "metadata": {},
   "outputs": [],
   "source": [
    "#Integer7\n",
    "x=int(input('ikki xonali sonni kiriting:'))\n",
    "print('raqamlar yigindisi:', x//10+x%10)"
   ]
  },
  {
   "cell_type": "code",
   "execution_count": null,
   "id": "afaaff44",
   "metadata": {},
   "outputs": [],
   "source": [
    "#Integer8\n",
    "x=int(input('ikki xonali sonni kiriting:'))\n",
    "print('raqamlari orni almashtirilgandagi son:',10*(x%10)+x//10)\n"
   ]
  },
  {
   "cell_type": "code",
   "execution_count": null,
   "id": "bc69bb97",
   "metadata": {},
   "outputs": [],
   "source": [
    "#Integer9\n",
    "y=int(input('uch xonali sonni kiriting:'))\n",
    "print('yuzlar xonasidagi sonni raqam:',y//100)"
   ]
  },
  {
   "cell_type": "code",
   "execution_count": null,
   "id": "6e81ecfd",
   "metadata": {},
   "outputs": [],
   "source": [
    "#Integer10\n",
    "y=int(input('uch xonali sonni kiriting:'))\n",
    "print('birliklar xonasidagi sonni raqam:',y%100%10)\n",
    "print('onliklar xonasidagi sonni raqam:',y%100//10)"
   ]
  },
  {
   "cell_type": "code",
   "execution_count": null,
   "id": "40bcd7ea",
   "metadata": {},
   "outputs": [],
   "source": [
    "#Integer11\n",
    "y=int(input('uch xonali sonni kiriting:'))\n",
    "print('son raqamlari yigindisi:',y//100+y%100//10+y%100%10)"
   ]
  },
  {
   "cell_type": "code",
   "execution_count": null,
   "id": "d264cf0a",
   "metadata": {},
   "outputs": [],
   "source": [
    "#Integer12(string usuli)\n",
    "y=str(input('uch xonali sonni kiriting:'))\n",
    "print('sonni teskari tartibda yozishdan xosil bolgan son:',y[::-1])\n"
   ]
  },
  {
   "cell_type": "code",
   "execution_count": null,
   "id": "5eb0571c",
   "metadata": {},
   "outputs": [],
   "source": [
    "#Integer12(oddiy usul)\n",
    "y=int(input('uch xonali sonni kiriting:'))\n",
    "print('teskari tartibda yozishdan xosil bolgan son:',100*(y%100%10)+10*(y%100//10)+y//100)"
   ]
  },
  {
   "cell_type": "code",
   "execution_count": null,
   "id": "31846013",
   "metadata": {},
   "outputs": [],
   "source": [
    "#Integer13\n",
    "y=int(input('uch xonali sonni kiriting:'))\n",
    "print('chapdan birini ongga olgandagi son:',100*(y%100//10)+10*(y%100%10)+y//100)\n"
   ]
  },
  {
   "cell_type": "code",
   "execution_count": null,
   "id": "9a780c7f",
   "metadata": {},
   "outputs": [],
   "source": [
    "#Integer14\n",
    "y=int(input('uch xonali sonni kiriting:'))\n",
    "print('ongdan birini chapga olgandagi son:',100*(y%100%10)+10*(y//100)+y%100//10)"
   ]
  },
  {
   "cell_type": "code",
   "execution_count": null,
   "id": "75dcb979",
   "metadata": {},
   "outputs": [],
   "source": [
    "#Integer15\n",
    "y=int(input('uch xonali sonni kiriting:'))\n",
    "print('onliklar va yuzliklarni ornini almashtirishdan xosil bolgan son:',100*(y%100//10)+10*(y//100)+y%100%10)"
   ]
  },
  {
   "cell_type": "code",
   "execution_count": null,
   "id": "6b8a9753",
   "metadata": {},
   "outputs": [],
   "source": [
    "#Integer16\n",
    "y=int(input('uch xonali sonni kiriting:'))\n",
    "print('onliklar va birliklar ornini almashtirishdan xosil bolgan son:',100*(y//100)+10*(y%100%10)+y%100//10)\n"
   ]
  },
  {
   "cell_type": "code",
   "execution_count": null,
   "id": "149d49bc",
   "metadata": {},
   "outputs": [],
   "source": [
    "#Integer17\n",
    "z=int(input('4 xonali yoki undan katta sonni kiriting:'))\n",
    "print('yuzliklar xonasidagi raqam:',z%1000//100)"
   ]
  },
  {
   "cell_type": "code",
   "execution_count": null,
   "id": "7aace556",
   "metadata": {},
   "outputs": [],
   "source": [
    "#Integer18\n",
    "z=int(input('4 xonali yoki undan katta sonni kiriting:'))\n",
    "print('mingliklar xonasidagi raqam:',z//1000)"
   ]
  },
  {
   "cell_type": "code",
   "execution_count": null,
   "id": "4b3b206a",
   "metadata": {},
   "outputs": [],
   "source": [
    "#Integer19\n",
    "t=int(input('otgan vaqtni kiriting:'))\n",
    "print('otgan minutlar soni:',t//60)"
   ]
  },
  {
   "cell_type": "code",
   "execution_count": null,
   "id": "9d604c94",
   "metadata": {},
   "outputs": [],
   "source": [
    "#Integer20\n",
    "t=int(input('otgan vaqtni kiriting:'))\n",
    "print('otgan soat soni:',t//3600)\n"
   ]
  },
  {
   "cell_type": "code",
   "execution_count": null,
   "id": "bacb7db9",
   "metadata": {},
   "outputs": [],
   "source": [
    "#Integer21\n",
    "t=int(input('otgan vaqtni kiriting:'))\n",
    "print('otgan minutlar soni:',t//60)\n",
    "print('otgan sekundlar soni:',t%60)"
   ]
  },
  {
   "cell_type": "code",
   "execution_count": null,
   "id": "917b4503",
   "metadata": {},
   "outputs": [],
   "source": [
    "#Integer22\n",
    "t=int(input('otgan vaqtni kiriting:'))\n",
    "print('otgan soat soni:',t//3600)\n",
    "print('otgan sekundlar soni:',t%3600)"
   ]
  },
  {
   "cell_type": "code",
   "execution_count": null,
   "id": "7bd7dd5f",
   "metadata": {},
   "outputs": [],
   "source": [
    "#Integer23\n",
    "t=int(input('otgan vaqtni kiriting:'))\n",
    "print('otgan soat soni:',t//3600)\n",
    "print('otgan minutlar soni:',t//60)\n",
    "print('otgan sekundlar soni:',t%3600)"
   ]
  },
  {
   "cell_type": "code",
   "execution_count": null,
   "id": "e99d69ad",
   "metadata": {},
   "outputs": [],
   "source": [
    "#Integer24(if condition yordamida)\n",
    "d=int(input('sonni kiriting:'))\n",
    "if d%7==0:\n",
    "    print('yakshanba')\n",
    "elif d%7==1:\n",
    "    print('dushanba')\n",
    "elif d%7==2:\n",
    "    print('seshanba')\n",
    "elif d%7==3:\n",
    "    print('chorshanba')\n",
    "elif d%7==4:\n",
    "    print('payshanba')\n",
    "elif d%7==5:\n",
    "    print('juma')\n",
    "elif d%7==6:\n",
    "    print('shanba')\n",
    "else:\n",
    "    print('xato raqam kiritilgan')"
   ]
  },
  {
   "cell_type": "code",
   "execution_count": null,
   "id": "25271fbc",
   "metadata": {},
   "outputs": [],
   "source": [
    "#Integer24(swtich case yordamida)\n",
    "def xafta_kuni(d):\n",
    "    switch={\n",
    "        0:'yakshanba',\n",
    "        1:'dushanba',\n",
    "        2:'seshanba',\n",
    "        3:'chorshanba',\n",
    "        4:'payshanba',\n",
    "        5:'juma',\n",
    "        6:'shanba'\n",
    "    }\n",
    "    return switch.get(d,'xato raqam kiritilgan')\n"
   ]
  },
  {
   "cell_type": "code",
   "execution_count": null,
   "id": "910bcbd3",
   "metadata": {},
   "outputs": [],
   "source": [
    "xafta_kuni(4)\n"
   ]
  },
  {
   "cell_type": "code",
   "execution_count": null,
   "id": "dddb1a94",
   "metadata": {},
   "outputs": [],
   "source": [
    "#Integer 24-28 bir xil shuning uchun ularni tashlab ketamiz"
   ]
  },
  {
   "cell_type": "code",
   "execution_count": null,
   "id": "da7e0492",
   "metadata": {},
   "outputs": [],
   "source": [
    "#Integer 29\n",
    "A=int(input('tomonni kiriting:'))\n",
    "B=int(input('tomonni kiriting:'))\n",
    "C=int(input('tomonni kiriting:'))\n",
    "S_tortburchak=A*B\n",
    "S_kvadrat=pow(C,2)\n",
    "print('eng kop joylashgan kvadratlar soni:',S_tortburchak//S_kvadrat)\n",
    "print('joylashmay qolgan  kvadrat yuzasi:',S_tortburchak%S_kvadrat)"
   ]
  },
  {
   "cell_type": "code",
   "execution_count": 2,
   "id": "fcc24ce8",
   "metadata": {},
   "outputs": [
    {
     "name": "stdout",
     "output_type": "stream",
     "text": [
      "yilni kiriting:2022\n",
      "21- yuzyillik\n"
     ]
    }
   ],
   "source": [
    "#Integer30\n",
    "y=int(input('yilni kiriting:'))\n",
    "if 0<y<99:\n",
    "    print(' 1- yuzyillik')\n",
    "elif 100<y<199:\n",
    "    print('2 -yuzyillik')\n",
    "elif 200<y<299:\n",
    "    print('3-yuzyillik')\n",
    "elif 300<y<399:\n",
    "    print('4-yuzyillik')\n",
    "elif 2000<2099:\n",
    "    print('21- yuzyillik')\n",
    "else:\n",
    "    print('out of box')"
   ]
  },
  {
   "cell_type": "code",
   "execution_count": null,
   "id": "ce26e7bd",
   "metadata": {},
   "outputs": [],
   "source": [
    "Asosiy foydalaniladiganlarimiz:\n",
    "1. a//b bu a ni b ga bolgandagi butun qismni beradi. Masalan 7//3=2\n",
    "2. a%b bu a ni b ga bolgandagi qoldiqni topish. Masalan 7%3=1"
   ]
  },
  {
   "cell_type": "code",
   "execution_count": null,
   "id": "f01b532f",
   "metadata": {},
   "outputs": [],
   "source": [
    "By Davronbek Malikov"
   ]
  }
 ],
 "metadata": {
  "kernelspec": {
   "display_name": "Python 3 (ipykernel)",
   "language": "python",
   "name": "python3"
  },
  "language_info": {
   "codemirror_mode": {
    "name": "ipython",
    "version": 3
   },
   "file_extension": ".py",
   "mimetype": "text/x-python",
   "name": "python",
   "nbconvert_exporter": "python",
   "pygments_lexer": "ipython3",
   "version": "3.9.12"
  }
 },
 "nbformat": 4,
 "nbformat_minor": 5
}
