{
 "cells": [
  {
   "cell_type": "code",
   "execution_count": null,
   "id": "5d994660",
   "metadata": {},
   "outputs": [],
   "source": [
    "#Begin1\n",
    "a=int(input('tomonni kiriting:'))\n",
    "p=4*a\n",
    "print('kvadratning perimetri:',p)"
   ]
  },
  {
   "cell_type": "code",
   "execution_count": null,
   "id": "3f123447",
   "metadata": {},
   "outputs": [],
   "source": [
    "#Begin2\n",
    "a=int(input('tomonni kiriting:'))\n",
    "S=pow(a,2)\n",
    "print('kvadratning yuzasi:',S)"
   ]
  },
  {
   "cell_type": "code",
   "execution_count": null,
   "id": "d013ddf2",
   "metadata": {},
   "outputs": [],
   "source": [
    "#Begin3\n",
    "a=int(input('tomonni kiriting:'))\n",
    "b=int(input('tomonni kiriting:'))\n",
    "S=a*b\n",
    "P=2*(a+b)\n",
    "print('tortburchak yuzasi:',S)\n",
    "print('tortburchak perimetri:',P)"
   ]
  },
  {
   "cell_type": "code",
   "execution_count": null,
   "id": "4ca37cc3",
   "metadata": {},
   "outputs": [],
   "source": [
    "#Begin4\n",
    "d=int(input('diametrni kiriting:'))\n",
    "pi=3.14\n",
    "l=pi*d\n",
    "print('aylana uzunligi:',l)"
   ]
  },
  {
   "cell_type": "code",
   "execution_count": null,
   "id": "5fcc5d8e",
   "metadata": {},
   "outputs": [],
   "source": [
    "#Begin5\n",
    "a=int(input('yon tomonni kiriting:'))\n",
    "V=pow(a,3)\n",
    "print('kubning xajmi:',V)"
   ]
  },
  {
   "cell_type": "code",
   "execution_count": null,
   "id": "23365017",
   "metadata": {},
   "outputs": [],
   "source": [
    "#Begin6\n",
    "a=int(input('tomonni kiriting:'))\n",
    "b=int(input('tomonni kiriting:'))\n",
    "c=int(input('tomonni kiriting:'))\n",
    "V=a*b*c\n",
    "S=2*(a*b+a*c+b*c)\n",
    "print('parallelipiped xajmi:',V)\n",
    "print('tola sirti:',S)"
   ]
  },
  {
   "cell_type": "code",
   "execution_count": null,
   "id": "52977a0a",
   "metadata": {},
   "outputs": [],
   "source": [
    "#Begin7\n",
    "R=int(input('radiusni kiriting:'))\n",
    "pi=3.14\n",
    "S=pi*pow(R,2)\n",
    "L=2*pi*R\n",
    "print('doira yuzasi:',S)\n",
    "print('doira uzunligi:',L)\n"
   ]
  },
  {
   "cell_type": "code",
   "execution_count": null,
   "id": "45eaaa6c",
   "metadata": {},
   "outputs": [],
   "source": [
    "#Begin8\n",
    "a=int(input('sonni kiriting:'))\n",
    "b=int(input('sonni kiriting:'))\n",
    "print('ikki son orta arifmetigi:',(a+b)/2)"
   ]
  },
  {
   "cell_type": "code",
   "execution_count": null,
   "id": "cea55a8f",
   "metadata": {},
   "outputs": [],
   "source": [
    "#Begin9(berilgan sonlar manfiy emas)\n",
    "a=int(input('sonni kiriting:'))\n",
    "b=int(input('sonni kiriting:'))\n",
    "if a<=b or b<=0:\n",
    "    print('tomonlar faqat musbat boladi')\n",
    "else:\n",
    "    print('ikki son orta arifmetigi:',pow((a*b),1/2))"
   ]
  },
  {
   "cell_type": "code",
   "execution_count": null,
   "id": "c23e0328",
   "metadata": {},
   "outputs": [],
   "source": [
    "#Begin10\n",
    "a=int(input('sonni kiriting:'))\n",
    "b=int(input('sonni kiriting:'))\n",
    "if a==0 or b==0:\n",
    "    print('sonlar nolga teng bolmasligi kerak')\n",
    "else:\n",
    "    print('ularning yigindisi:',a+b)\n",
    "    print('ularning kopaytmasi:',a*b)\n",
    "    print('xar birining kvadrati:',pow(a,2),pow(b,2))"
   ]
  },
  {
   "cell_type": "code",
   "execution_count": null,
   "id": "3ed1260f",
   "metadata": {},
   "outputs": [],
   "source": [
    "#Begin11\n",
    "a=int(input('sonni kiriting:'))\n",
    "b=int(input('sonni kiriting:'))\n",
    "if a==0 or b==0:\n",
    "    print('sonlar nolga teng bolmasligi kerak')\n",
    "else:\n",
    "    print('ularning yigindisi:',a+b)\n",
    "    print('ularning kopaytmasi:',a*b)\n",
    "    print('xar birining moduli:',abs(a),abs(b))"
   ]
  },
  {
   "cell_type": "code",
   "execution_count": null,
   "id": "98a17b37",
   "metadata": {},
   "outputs": [],
   "source": [
    "#Begin12\n",
    "import math\n",
    "a=int(input('katetlarni kiriting:'))\n",
    "b=int(input('katetlarni kiriting:'))\n",
    "c=math.sqrt(pow(a,2)+pow(b,2))\n",
    "P=a+b+c\n",
    "print('gipotenuza:',c)\n",
    "print('perimetri:',P)\n"
   ]
  },
  {
   "cell_type": "code",
   "execution_count": null,
   "id": "b8486cec",
   "metadata": {},
   "outputs": [],
   "source": [
    "#Begin13\n",
    "R_1=int(input('radiusni kiriting:'))\n",
    "R_2=int(input('radiusni kiriting:'))\n",
    "pi=3.14\n",
    "S_1=pi*pow(R_1,2)\n",
    "S_2=pi*pow(R_2,2)\n",
    "S=abs(S_1-S_2)\n",
    "print('birinchi doira yuzasi:',S_1)\n",
    "print('ikkinchi doira yuzasi:',S_2)\n",
    "print('yuzalar ayirmasi:',S)"
   ]
  },
  {
   "cell_type": "code",
   "execution_count": null,
   "id": "8ef8231d",
   "metadata": {},
   "outputs": [],
   "source": [
    "#Begin14\n",
    "L=int(input('aylana uzunligini kiriting:'))\n",
    "pi=3.14\n",
    "R=L/(2*pi)\n",
    "S=pi*pow(R,2)\n",
    "print('aylana radiusi:',R)\n",
    "print('yuzasi:',S)"
   ]
  },
  {
   "cell_type": "code",
   "execution_count": null,
   "id": "ecd7a255",
   "metadata": {},
   "outputs": [],
   "source": [
    "#Begin15\n",
    "S=int(input('yuzani kiriting:'))\n",
    "R=math.sqrt(S/pi)\n",
    "D=2*R\n",
    "print('radius:',R)\n",
    "print('diametri:',D)"
   ]
  },
  {
   "cell_type": "code",
   "execution_count": null,
   "id": "339a2f5a",
   "metadata": {},
   "outputs": [],
   "source": [
    "#Begin16\n",
    "x_1=6\n",
    "x_2=56\n",
    "l=abs(x_2-x_1)\n",
    "print('son oqidagi ikki nuqta orasidagi masofa:',l)"
   ]
  },
  {
   "cell_type": "code",
   "execution_count": null,
   "id": "41e08da3",
   "metadata": {},
   "outputs": [],
   "source": [
    "#Begin17\n",
    "A=int(input('nuqtani kiriting:'))\n",
    "B=int(input('nuqtani kiriting:'))\n",
    "C=int(input('nuqtani kiriting:'))\n",
    "AC=C-A\n",
    "BC=C-B\n",
    "print('AC kesma uzunligi:',AC)\n",
    "print('BC kesma uzunligi:',BC)\n",
    "print('kesmalar yigindisi:',AC+BC)"
   ]
  },
  {
   "cell_type": "code",
   "execution_count": null,
   "id": "ba75b375",
   "metadata": {},
   "outputs": [],
   "source": [
    "#Begin18\n",
    "A=int(input('nuqtani kiriting:'))\n",
    "B=int(input('nuqtani kiriting:'))\n",
    "C=int(input('nuqtani kiriting:'))\n",
    "AC=C-A\n",
    "BC=abs(C-B)\n",
    "print('AC kesma uzunligi:',AC)\n",
    "print('BC kesma uzunligi:',BC)\n",
    "print('kesmalar kopaytmasi:',AC*BC)"
   ]
  },
  {
   "cell_type": "code",
   "execution_count": null,
   "id": "cc8d418d",
   "metadata": {},
   "outputs": [],
   "source": [
    "#Begin19\n",
    "a_1=(0,4)\n",
    "a_2=(6,4)\n",
    "a_3=(0,0)\n",
    "a_4=(6,0)\n",
    "A=6\n",
    "B=4\n",
    "print('perimetri:',2*(A+B))\n",
    "print('yuzasi',A*B)"
   ]
  },
  {
   "cell_type": "code",
   "execution_count": null,
   "id": "c7ea2261",
   "metadata": {},
   "outputs": [],
   "source": [
    "#Begin20\n",
    "x_1=int(input('nuqtani kiriting:'))\n",
    "x_2=int(input('nuqtani kiriting:'))\n",
    "y_1=int(input('nuqtani kiriting:'))\n",
    "y_2=int(input('nuqtani kiriting:'))\n",
    "d=math.sqrt(pow((x_2-x_1),2)+pow((y_2-y_1),2))\n",
    "print('ikki nuqta orasidagi masofa:',d)\n"
   ]
  },
  {
   "cell_type": "code",
   "execution_count": null,
   "id": "fd55aae9",
   "metadata": {},
   "outputs": [],
   "source": [
    "#Begin21\n",
    "import math\n",
    "x_1=int(input('nuqtani kiriting:'))\n",
    "x_2=int(input('nuqtani kiriting:'))\n",
    "y_1=int(input('nuqtani kiriting:'))\n",
    "y_2=int(input('nuqtani kiriting:'))\n",
    "x_3=int(input('nuqtani kiriting:'))\n",
    "y_3=int(input('nuqtani kiriting:'))\n",
    "a=math.sqrt(pow((x_1-y_1),2))\n",
    "b=math.sqrt(pow((x_2-y_2),2))\n",
    "c=math.sqrt(pow((x_3-y_3),2))\n",
    "p=(a+b+c)*0.5\n",
    "s=p*(p-a)*(p-b)*(p-c)\n",
    "S=math.sqrt(s)\n",
    "print(p)\n",
    "print(S)"
   ]
  },
  {
   "cell_type": "code",
   "execution_count": null,
   "id": "97b48611",
   "metadata": {},
   "outputs": [],
   "source": [
    "#Begin22\n",
    "A=int(input('nuqtani kiriting:'))\n",
    "B=int(input('nuqtani kiriting:'))\n",
    "A,B=B,A\n",
    "print(A)\n",
    "print(B)"
   ]
  },
  {
   "cell_type": "code",
   "execution_count": null,
   "id": "7a007efe",
   "metadata": {},
   "outputs": [],
   "source": [
    "#Begin23\n",
    "A=int(input('nuqtani kiriting:'))\n",
    "B=int(input('nuqtani kiriting:'))\n",
    "C=int(input('nuqtani kiriting:'))\n",
    "A,B=B,A\n",
    "B,C=C,B\n",
    "print(A,B,C)\n"
   ]
  },
  {
   "cell_type": "code",
   "execution_count": null,
   "id": "fc8e84cc",
   "metadata": {},
   "outputs": [],
   "source": [
    "#Begin24\n",
    "A=int(input('nuqtani kiriting:'))\n",
    "B=int(input('nuqtani kiriting:'))\n",
    "C=int(input('nuqtani kiriting:'))\n",
    "A,C=C,A\n",
    "B,C=C,B\n",
    "print(A,B,C)"
   ]
  },
  {
   "cell_type": "code",
   "execution_count": null,
   "id": "586e5e8b",
   "metadata": {},
   "outputs": [],
   "source": [
    "#Begin25\n",
    "x=int(input('sonni kiriting:'))\n",
    "y=3*pow(x,6)-6*pow(x,2)-7\n",
    "print(y)"
   ]
  },
  {
   "cell_type": "code",
   "execution_count": null,
   "id": "3d8d8239",
   "metadata": {},
   "outputs": [],
   "source": [
    "#Begin26\n",
    "x=int(input('sonni kiriting:'))\n",
    "y=4*(pow((x-3),6))-7*(pow((x-3),3))+2\n",
    "print(y)\n",
    "    "
   ]
  },
  {
   "cell_type": "code",
   "execution_count": null,
   "id": "98873006",
   "metadata": {},
   "outputs": [],
   "source": [
    "#Begin27\n",
    "A=int(input('sonni kiriting:'))\n",
    "print(pow(A,2))\n",
    "print(pow(A,4))\n",
    "print(pow(A,8))"
   ]
  },
  {
   "cell_type": "code",
   "execution_count": null,
   "id": "5d22edda",
   "metadata": {},
   "outputs": [],
   "source": [
    "#Begin28\n",
    "A=int(input('sonni kiriting:'))\n",
    "print(pow(A,2))\n",
    "print(pow(A,3))\n",
    "print(pow(A,5))\n",
    "print(pow(A,10))\n",
    "print(pow(A,15))"
   ]
  },
  {
   "cell_type": "code",
   "execution_count": null,
   "id": "a384207a",
   "metadata": {},
   "outputs": [],
   "source": [
    "#Begin29\n",
    "a=int(input('gradusni kiriting:'))\n",
    "print('radian olchovi:',a*pi/180)"
   ]
  },
  {
   "cell_type": "code",
   "execution_count": null,
   "id": "76e1ecc1",
   "metadata": {},
   "outputs": [],
   "source": [
    "#Begin30\n",
    "pi=180\n",
    "print(3*pi/2)"
   ]
  },
  {
   "cell_type": "code",
   "execution_count": null,
   "id": "fa92041e",
   "metadata": {},
   "outputs": [],
   "source": [
    "#Begin31\n",
    "T_F=int(input('Farangeytni kiriting:'))\n",
    "T_C=(T_F-32)*5/9\n",
    "print(T_C)"
   ]
  },
  {
   "cell_type": "code",
   "execution_count": null,
   "id": "3472e50d",
   "metadata": {},
   "outputs": [],
   "source": [
    "#Begin32\n",
    "T_C=int(input('Selsiyni kiriting:'))\n",
    "T_F=(T_C-32)*5/9\n",
    "print(T_F)"
   ]
  },
  {
   "cell_type": "code",
   "execution_count": 2,
   "id": "0f07e4ce",
   "metadata": {},
   "outputs": [
    {
     "name": "stdout",
     "output_type": "stream",
     "text": [
      "massani kiriting:2\n",
      "narxni kiriting:100\n",
      "soralayotgan massani kiriting:4\n",
      "1_kg konfet narxi: 50.0\n",
      "y_kg konfet narxi: 200.0\n"
     ]
    }
   ],
   "source": [
    "#Begin33\n",
    "x=int(input('massani kiriting:'))\n",
    "A=int(input('narxni kiriting:'))\n",
    "y=int(input('soralayotgan massani kiriting:'))\n",
    "print('1_kg konfet narxi:',A/x)\n",
    "print('y_kg konfet narxi:',y*A/x)\n"
   ]
  },
  {
   "cell_type": "code",
   "execution_count": 6,
   "id": "bba43a42",
   "metadata": {},
   "outputs": [
    {
     "name": "stdout",
     "output_type": "stream",
     "text": [
      "massani kiriting:2\n",
      "narxni kiriting:100\n",
      "massani kiriting:3\n",
      "narxni kiriting:600\n",
      "1_kg shokolad narxi: 50.0\n",
      "1_kg konfet narxi: 200.0\n",
      "1_kg shokolad narxi 1_kg konfet narxi farqi: 150.0\n"
     ]
    }
   ],
   "source": [
    "#Begin34\n",
    "x=int(input('massani kiriting:'))\n",
    "A=int(input('narxni kiriting:'))\n",
    "y=int(input('massani kiriting:'))\n",
    "B=int(input('narxni kiriting:'))\n",
    "print('1_kg shokolad narxi:',A/x)\n",
    "print('1_kg konfet narxi:',B/y)\n",
    "print('1_kg shokolad narxi 1_kg konfet narxi farqi:',abs(A/x-(B/y)))"
   ]
  },
  {
   "cell_type": "code",
   "execution_count": 8,
   "id": "8f64243d",
   "metadata": {},
   "outputs": [
    {
     "name": "stdout",
     "output_type": "stream",
     "text": [
      "qayiqning tezligini kiriting:20\n",
      "oqimning tezligini kiriting:10\n",
      "oqim boyicha xarakatlanish vaqti:3\n",
      "oqimga qarshi vaqti:2\n",
      "Qayiqning yurgan yoli: 40\n"
     ]
    }
   ],
   "source": [
    "#Begin35\n",
    "V=int(input('qayiqning tezligini kiriting:'))\n",
    "U=int(input('oqimning tezligini kiriting:'))\n",
    "T_1=int(input('oqim boyicha xarakatlanish vaqti:'))\n",
    "T_2=int(input('oqimga qarshi vaqti:'))\n",
    "S=V*T_1-U*T_2\n",
    "print('Qayiqning yurgan yoli:',S)"
   ]
  },
  {
   "cell_type": "code",
   "execution_count": 9,
   "id": "fdc2fcf0",
   "metadata": {},
   "outputs": [
    {
     "name": "stdout",
     "output_type": "stream",
     "text": [
      "ular orasidagi dastlabki masofani kiriting:50\n",
      "birinchi mashina tezligi:70\n",
      "ikkinchi mashina tezligi:80\n",
      "soralayotgan vaqtni kiriting:1\n",
      "t soatdan keyin ular orasidagi masofa: 200\n"
     ]
    }
   ],
   "source": [
    "#Begin36\n",
    "s=int(input('ular orasidagi dastlabki masofani kiriting:'))\n",
    "v_1=int(input('birinchi mashina tezligi:'))\n",
    "v_2=int(input('ikkinchi mashina tezligi:'))\n",
    "t=int(input('soralayotgan vaqtni kiriting:'))\n",
    "S=t*(v_1+v_2)+s\n",
    "print('t soatdan keyin ular orasidagi masofa:',S)"
   ]
  },
  {
   "cell_type": "code",
   "execution_count": 10,
   "id": "1c3a627a",
   "metadata": {},
   "outputs": [
    {
     "name": "stdout",
     "output_type": "stream",
     "text": [
      "ular orasidagi dastlabki masofani kiriting:200\n",
      "birinchi mashina tezligi:50\n",
      "ikkinchi mashina tezligi:70\n",
      "soralayotgan vaqtni kiriting:1\n",
      "t soatdan keyin ular orasidagi masofa: -80\n"
     ]
    }
   ],
   "source": [
    "#Begin37\n",
    "s=int(input('ular orasidagi dastlabki masofani kiriting:'))\n",
    "v_1=int(input('birinchi mashina tezligi:'))\n",
    "v_2=int(input('ikkinchi mashina tezligi:'))\n",
    "t=int(input('soralayotgan vaqtni kiriting:'))\n",
    "S=t*(v_1+v_2)-s\n",
    "print('t soatdan keyin ular orasidagi masofa:',S)"
   ]
  },
  {
   "cell_type": "code",
   "execution_count": 14,
   "id": "c9260d5a",
   "metadata": {},
   "outputs": [
    {
     "name": "stdout",
     "output_type": "stream",
     "text": [
      "koefitsietni kiriting:0\n",
      "koefitsietni kiriting:3\n",
      "yechim mavjud emas:\n"
     ]
    }
   ],
   "source": [
    "#Begin38\n",
    "A=int(input('koefitsietni kiriting:'))\n",
    "B=int(input('koefitsietni kiriting:'))\n",
    "if A!=0:\n",
    "    print('tenglama yechimi:',-B/A)\n",
    "else:\n",
    "    print('yechim mavjud emas')"
   ]
  },
  {
   "cell_type": "code",
   "execution_count": 16,
   "id": "c8840686",
   "metadata": {},
   "outputs": [
    {
     "name": "stdout",
     "output_type": "stream",
     "text": [
      "koefitsietni kiriting:1\n",
      "koefitsietni kiriting:-4\n",
      "koefitsietni kiriting:-3\n",
      "6.645751311064591\n",
      "1.3542486889354093\n"
     ]
    }
   ],
   "source": [
    "#Begin39\n",
    "import math\n",
    "A=int(input('koefitsietni kiriting:'))\n",
    "B=int(input('koefitsietni kiriting:'))\n",
    "C=int(input('koefitsietni kiriting:'))\n",
    "D=pow(B,2)-4*A*C\n",
    "x_1=(-B+math.sqrt(D)/2*A)\n",
    "x_2=(-B-math.sqrt(D)/2*A)\n",
    "if A!=0:\n",
    "    print(x_1)\n",
    "    print(x_2)\n",
    "else:\n",
    "    print('yechim mavjud emas')\n",
    "    \n",
    "\n"
   ]
  },
  {
   "cell_type": "code",
   "execution_count": 17,
   "id": "239b78a1",
   "metadata": {},
   "outputs": [
    {
     "name": "stdout",
     "output_type": "stream",
     "text": [
      "koefitsietni kiriting:2\n",
      "koefitsietni kiriting:4\n",
      "koefitsietni kiriting:3\n",
      "koefitsietni kiriting:7\n",
      "koefitsietni kiriting:5\n",
      "koefitsietni kiriting:4\n",
      "0.05555555555555555\n",
      "-13\n"
     ]
    }
   ],
   "source": [
    "#Begin40\n",
    "A_1=int(input('koefitsietni kiriting:'))\n",
    "B_1=int(input('koefitsietni kiriting:'))\n",
    "C_1=int(input('koefitsietni kiriting:'))\n",
    "A_2=int(input('koefitsietni kiriting:'))\n",
    "B_2=int(input('koefitsietni kiriting:'))\n",
    "C_2=int(input('koefitsietni kiriting:'))\n",
    "D=(A_1*B_2-A_2*B_1)\n",
    "x=(C_1*B_2-C_2*B_1)/D\n",
    "y=(A_1*C_2-A_2*C_1)\n",
    "print(x)\n",
    "print(y)"
   ]
  },
  {
   "cell_type": "code",
   "execution_count": null,
   "id": "1ddee93c",
   "metadata": {},
   "outputs": [],
   "source": [
    "Asosiy yangiliklar\n",
    "1. Sonlarning moduli  abs(a)\n",
    "2. Ildiz ifodasi \n",
    "    import math\n",
    "    math.sqrt(a)\n",
    "3. 3 ta sonni qiymatlarini ozaro almashtirish uchun ikki  marta swap qilish kerak\n",
    "     A,B=B,A\n",
    "    B,C=C,A\n"
   ]
  }
 ],
 "metadata": {
  "kernelspec": {
   "display_name": "Python 3 (ipykernel)",
   "language": "python",
   "name": "python3"
  },
  "language_info": {
   "codemirror_mode": {
    "name": "ipython",
    "version": 3
   },
   "file_extension": ".py",
   "mimetype": "text/x-python",
   "name": "python",
   "nbconvert_exporter": "python",
   "pygments_lexer": "ipython3",
   "version": "3.9.12"
  }
 },
 "nbformat": 4,
 "nbformat_minor": 5
}
